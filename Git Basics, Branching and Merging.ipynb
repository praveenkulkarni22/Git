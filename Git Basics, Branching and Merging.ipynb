{
 "cells": [
  {
   "cell_type": "markdown",
   "metadata": {},
   "source": [
    "### Git Configuration"
   ]
  },
  {
   "cell_type": "raw",
   "metadata": {},
   "source": [
    "git config --global user.name \"Praveen Kulkarni\"\n",
    "git config --global user.email \"praveenkulkarni22@gmail.com\"\n",
    "git config --global --list\n",
    "cat ~/.gitconfig"
   ]
  },
  {
   "cell_type": "markdown",
   "metadata": {},
   "source": [
    "### Initialize a empty Repository"
   ]
  },
  {
   "cell_type": "raw",
   "metadata": {},
   "source": [
    "mkdir projects\n",
    "cd projects\n",
    "pwd\n",
    "/Users/praveen/projects\n",
    "git init git-demo\n",
    "Initialized empty Git repository in /Users/praveen/projects/git-demo/.git/\n",
    "(base) Praveens-MacBook-Pro:projects praveen$ ls -ltr\n",
    "drwxr-xr-x  3 praveen  staff  96 Feb 11 20:58 git-demo\n",
    "(base) Praveens-MacBook-Pro:projects praveen$ cd git-demo/"
   ]
  },
  {
   "cell_type": "markdown",
   "metadata": {},
   "source": [
    "#### Another option to initialize a repository"
   ]
  },
  {
   "cell_type": "raw",
   "metadata": {},
   "source": [
    "cd projects\n",
    "mkdir website\n",
    "cd website\n",
    "git init\n",
    "Initialized empty Git repository in /Users/praveen/projects/website/.git/"
   ]
  },
  {
   "cell_type": "raw",
   "metadata": {},
   "source": [
    "vi README.md\n",
    "save the file\n",
    "git status\n",
    "git commit -am \"Modified content\"\n",
    "git status"
   ]
  },
  {
   "cell_type": "markdown",
   "metadata": {},
   "source": [
    "##### Add multiple new files/modified files to staging area."
   ]
  },
  {
   "cell_type": "raw",
   "metadata": {},
   "source": [
    "git add .\n",
    "git commit -a\n",
    "git add -A"
   ]
  },
  {
   "cell_type": "markdown",
   "metadata": {},
   "source": [
    "##### To remove file from staging area"
   ]
  },
  {
   "cell_type": "raw",
   "metadata": {},
   "source": [
    "git reset HEAD README.md"
   ]
  },
  {
   "cell_type": "markdown",
   "metadata": {},
   "source": [
    "##### To discard changes in working directory"
   ]
  },
  {
   "cell_type": "raw",
   "metadata": {},
   "source": [
    "git checkout -- README.md"
   ]
  },
  {
   "cell_type": "markdown",
   "metadata": {},
   "source": [
    "##### checking the git log"
   ]
  },
  {
   "cell_type": "raw",
   "metadata": {},
   "source": [
    "git log --oneline --graph --decorate --color"
   ]
  },
  {
   "cell_type": "markdown",
   "metadata": {},
   "source": [
    "##### Remove files from git"
   ]
  },
  {
   "cell_type": "raw",
   "metadata": {},
   "source": [
    "git status\n",
    "git add .\n",
    "git status\n",
    "git commit -m \"new file\"\n",
    "git status\n",
    "git rm new_file.txt \n",
    "git status\n",
    "git commit -m \"removed file\"\n",
    "git status"
   ]
  },
  {
   "cell_type": "markdown",
   "metadata": {},
   "source": [
    "##### Remove files outside of git"
   ]
  },
  {
   "cell_type": "raw",
   "metadata": {},
   "source": [
    "rm new_file.txt\n",
    "git status\n",
    "git add .\n",
    "git status\n",
    "git commit -m \"removed chk.txt\""
   ]
  },
  {
   "cell_type": "markdown",
   "metadata": {},
   "source": [
    "##### Moving Files within git"
   ]
  },
  {
   "cell_type": "raw",
   "metadata": {},
   "source": [
    "vi new_file.txt\n",
    "git add .\n",
    "git commit -m \"added new file\"\n",
    "git status\n",
    "mkdir new_folder\n",
    "git mv new_file.txt new_folder/\n",
    "git status\n",
    "On branch master\n",
    "Changes to be committed:\n",
    "  (use \"git reset HEAD <file>...\" to unstage)\n",
    "\n",
    "\trenamed:    new_file.txt -> new_folder/new_file.txt\n",
    "git commit -m \"moved file\"\n",
    "git status"
   ]
  },
  {
   "cell_type": "markdown",
   "metadata": {},
   "source": [
    "##### Moving files outside git"
   ]
  },
  {
   "cell_type": "raw",
   "metadata": {},
   "source": [
    "vim new_file1.txt\n",
    "git add .\n",
    "git commit -m \"2nd new file\"\n",
    "git status\n",
    "mv new_file1.txt new_folder/\n",
    "git status\n",
    "On branch master\n",
    "Changes not staged for commit:\n",
    "  (use \"git add/rm <file>...\" to update what will be committed)\n",
    "  (use \"git checkout -- <file>...\" to discard changes in working directory)\n",
    "\n",
    "\tdeleted:    new_file1.txt\n",
    "\n",
    "Untracked files:\n",
    "  (use \"git add <file>...\" to include in what will be committed)\n",
    "\n",
    "\tnew_folder/new_file1.txt\n",
    "\n",
    "no changes added to commit (use \"git add\" and/or \"git commit -a\")\n",
    "\n",
    "git add .\n",
    "git status\n",
    "On branch master\n",
    "Changes to be committed:\n",
    "  (use \"git reset HEAD <file>...\" to unstage)\n",
    "\n",
    "\trenamed:    new_file1.txt -> new_folder/new_file1.txt\n",
    "    \n",
    "git commit\n",
    "ls -ltr\n",
    "git status\n"
   ]
  },
  {
   "cell_type": "raw",
   "metadata": {},
   "source": [
    "Notice the changes in git behaviour when files are moved using git and outside git"
   ]
  },
  {
   "cell_type": "markdown",
   "metadata": {},
   "source": [
    "##### Ignore Files from being commit"
   ]
  },
  {
   "cell_type": "raw",
   "metadata": {},
   "source": [
    "create a .gitignore file and add all the files that needs to be ignored to it. One pattern of file per line.\n",
    "This file .gitignore should be committed to git"
   ]
  },
  {
   "cell_type": "markdown",
   "metadata": {},
   "source": [
    "### Git Authentication using ssh key"
   ]
  },
  {
   "cell_type": "raw",
   "metadata": {},
   "source": [
    "ssh-keygen -t rsa -C \"praveenkulkarni22@gmail.com\"\n",
    "ls -all\n",
    "vim id_rsa.pub (Copy the content of the key)\n",
    "go to github.com > settings > ssh and add the key\n",
    "ssh -T git@github.com\n",
    "The authenticity of host 'github.com (13.234.210.38)' can't be established.\n",
    "RSA key fingerprint is SHA256:nThbg6kXUpJWGl7E1IGOCspRomTxdCARLviKw6E5SY8.\n",
    "Are you sure you want to continue connecting (yes/no)? yes\n",
    "Warning: Permanently added 'github.com,13.234.210.38' (RSA) to the list of known hosts.\n",
    "Hi praveenkulkarni22! You've successfully authenticated, but GitHub does not provide shell access."
   ]
  },
  {
   "cell_type": "markdown",
   "metadata": {},
   "source": [
    "### Git Remote and GitHub"
   ]
  },
  {
   "cell_type": "raw",
   "metadata": {},
   "source": [
    "create a new repository in GitHub\n",
    "use SSH and copy the link\n",
    "(base) Praveens-MacBook-Pro:git-demo praveen$ git remote add origin git@github.com:praveenkulkarni22/git-demo.git\n",
    "(base) Praveens-MacBook-Pro:git-demo praveen$ git remote -v\n",
    "origin\tgit@github.com:praveenkulkarni22/git-demo.git (fetch)\n",
    "origin\tgit@github.com:praveenkulkarni22/git-demo.git (push)\n",
    "(base) Praveens-MacBook-Pro:git-demo praveen$ git push -u origin master\n",
    "Enumerating objects: 23, done.\n",
    "Counting objects: 100% (23/23), done.\n",
    "Delta compression using up to 4 threads\n",
    "Compressing objects: 100% (17/17), done.\n",
    "Writing objects: 100% (23/23), 2.16 KiB | 738.00 KiB/s, done.\n",
    "Total 23 (delta 2), reused 0 (delta 0)\n",
    "remote: Resolving deltas: 100% (2/2), done.\n",
    "To github.com:praveenkulkarni22/git-demo.git\n",
    " * [new branch]      master -> master\n",
    "Branch 'master' set up to track remote branch 'master' from 'origin'."
   ]
  },
  {
   "cell_type": "markdown",
   "metadata": {},
   "source": [
    "#### Commit files to remote repository"
   ]
  },
  {
   "cell_type": "raw",
   "metadata": {},
   "source": [
    "cp ~/Documents/GitHub/Git/Git\\ Basics.txt ./Git_Basics.txt\n",
    "ls -ltr\n",
    "git status -s\n",
    "git add Git_Basics.txt \n",
    "git status\n",
    "git commit -am \"Git Basics Details\"\n",
    "git status\n",
    "git pull origin master # Best Practice: Perform a pull before the push so that all the changes that have been committed have merged into my changes before I push. This will help avoid conflicts.\n",
    "git status\n",
    "git push origin master\n",
    "git status"
   ]
  },
  {
   "cell_type": "markdown",
   "metadata": {},
   "source": [
    "## Update on MAC after version upgrade"
   ]
  },
  {
   "cell_type": "raw",
   "metadata": {},
   "source": [
    "sudo xcode-select --install"
   ]
  },
  {
   "cell_type": "markdown",
   "metadata": {},
   "source": [
    "### Git command to set some editor default for editing git settings"
   ]
  },
  {
   "cell_type": "raw",
   "metadata": {},
   "source": [
    "git config --global core.editor \"'/Applications/Sublime Text.app/Contents/SharedSupport/bin/subl' -n -w\"\n",
    "git config --global -e"
   ]
  },
  {
   "cell_type": "markdown",
   "metadata": {},
   "source": [
    "#### Git Publish to Remote Repository"
   ]
  },
  {
   "cell_type": "raw",
   "metadata": {},
   "source": [
    "Create a repository on Github.com\n",
    "on your working directory > git init\n",
    "Add files\n",
    "git add .\n",
    "git commit -m \"First Commit\"\n",
    "git remote -v \n",
    "git remote add origin <Repository Name>\n",
    "git remote -v \n",
    "#This will show as below\n",
    "# origin\tgit@github.com:praveenkulkarni22/git-demo.git (fetch)\n",
    "# origin\tgit@github.com:praveenkulkarni22/git-demo.git (push)\n",
    "\n",
    "git push -u origin <branch name>\n",
    "# Sometimes you will notice a error on above command as below:\n",
    "# error: src refspec master does not match any.\n",
    "# failed to push some refs to 'https://....\n",
    "# This happens when you have linked to a remote repository but you have not pushed any files."
   ]
  },
  {
   "cell_type": "markdown",
   "metadata": {},
   "source": [
    "##### Check what is changed in a particular file"
   ]
  },
  {
   "cell_type": "raw",
   "metadata": {},
   "source": [
    "git diff --cached"
   ]
  },
  {
   "cell_type": "markdown",
   "metadata": {},
   "source": [
    "Please note this will only work after you add the file to staging using git add command. The diff does not work when the changes are only in the working directory"
   ]
  },
  {
   "cell_type": "markdown",
   "metadata": {},
   "source": [
    "##### To check what changes were made in a particular commit\n"
   ]
  },
  {
   "cell_type": "raw",
   "metadata": {},
   "source": [
    "(base) Praveens-MacBook-Pro:git-demo praveen$ git show c7315e1\n",
    "commit c7315e117735b4f15dbc245b7c37a16a65e27bbd\n",
    "Author: Praveen Kulkarni <praveenkulkarni22@gmail.com>\n",
    "Date:   Thu Feb 13 22:24:38 2020 +0530\n",
    "\n",
    "    Git Basics Details\n",
    "\n",
    "diff --git a/Git_Basics.txt b/Git_Basics.txt\n",
    "new file mode 100644\n",
    "index 0000000..3d7ce15\n",
    "--- /dev/null\n",
    "+++ b/Git_Basics.txt\n",
    "@@ -0,0 +1,155 @@\n",
    "+git config --global user.name \"Praveen Kulkarni\"\n",
    "+git config --global user.email \"praveenkulkarni22@gmail.com\"\n",
    "+git config --global --list\n",
    "+cat ~/.gitconfig\n",
    "+\n",
    "+\n",
    "+Initialize a empty repository\n",
    "+\n",
    "+mkdir projects\n",
    "+cd projects\n",
    "+pwd\n"
   ]
  },
  {
   "cell_type": "raw",
   "metadata": {},
   "source": [
    "git show c7315e1 --name-status\n",
    "commit c7315e117735b4f15dbc245b7c37a16a65e27bbd\n",
    "Author: Praveen Kulkarni <praveenkulkarni22@gmail.com>\n",
    "Date:   Thu Feb 13 22:24:38 2020 +0530\n",
    "\n",
    "    Git Basics Details\n",
    "\n",
    "A       Git_Basics.txt\n"
   ]
  },
  {
   "cell_type": "raw",
   "metadata": {},
   "source": [
    "git show c7315e1 --name-only\n",
    "commit c7315e117735b4f15dbc245b7c37a16a65e27bbd\n",
    "Author: Praveen Kulkarni <praveenkulkarni22@gmail.com>\n",
    "Date:   Thu Feb 13 22:24:38 2020 +0530\n",
    "\n",
    "    Git Basics Details\n",
    "\n",
    "Git_Basics.txt\n",
    "(base) Praveens-MacBook-Pro:git-demo praveen$ \n"
   ]
  },
  {
   "cell_type": "markdown",
   "metadata": {},
   "source": [
    "### check out the links in 11"
   ]
  },
  {
   "cell_type": "code",
   "execution_count": null,
   "metadata": {},
   "outputs": [],
   "source": []
  }
 ],
 "metadata": {
  "kernelspec": {
   "display_name": "Python 3",
   "language": "python",
   "name": "python3"
  },
  "language_info": {
   "codemirror_mode": {
    "name": "ipython",
    "version": 3
   },
   "file_extension": ".py",
   "mimetype": "text/x-python",
   "name": "python",
   "nbconvert_exporter": "python",
   "pygments_lexer": "ipython3",
   "version": "3.7.6"
  }
 },
 "nbformat": 4,
 "nbformat_minor": 2
}
